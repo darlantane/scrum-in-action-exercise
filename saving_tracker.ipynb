{
 "cells": [
  {
   "cell_type": "code",
   "execution_count": 5,
   "id": "927e105d",
   "metadata": {},
   "outputs": [],
   "source": [
    "import pandas as pd"
   ]
  },
  {
   "cell_type": "code",
   "execution_count": 8,
   "id": "3395ff5d",
   "metadata": {},
   "outputs": [],
   "source": [
    "import json\n"
   ]
  },
  {
   "cell_type": "code",
   "execution_count": 42,
   "id": "077ae3db",
   "metadata": {},
   "outputs": [
    {
     "data": {
      "text/plain": [
       "{'Janvier': '2000', 'Fevrier': '2100', 'Mars': '2050'}"
      ]
     },
     "execution_count": 42,
     "metadata": {},
     "output_type": "execute_result"
    }
   ],
   "source": [
    "with open('net_income.json', 'r', encoding='utf-8') as f:\n",
    "    income = json.load(f)\n",
    "\n",
    "income"
   ]
  },
  {
   "cell_type": "code",
   "execution_count": 49,
   "id": "c016f42b",
   "metadata": {},
   "outputs": [
    {
     "data": {
      "text/html": [
       "<div>\n",
       "<style scoped>\n",
       "    .dataframe tbody tr th:only-of-type {\n",
       "        vertical-align: middle;\n",
       "    }\n",
       "\n",
       "    .dataframe tbody tr th {\n",
       "        vertical-align: top;\n",
       "    }\n",
       "\n",
       "    .dataframe thead th {\n",
       "        text-align: right;\n",
       "    }\n",
       "</style>\n",
       "<table border=\"1\" class=\"dataframe\">\n",
       "  <thead>\n",
       "    <tr style=\"text-align: right;\">\n",
       "      <th></th>\n",
       "      <th>Janvier</th>\n",
       "      <th>Fevrier</th>\n",
       "      <th>Mars</th>\n",
       "    </tr>\n",
       "  </thead>\n",
       "  <tbody>\n",
       "    <tr>\n",
       "      <th>Revenue</th>\n",
       "      <td>2000</td>\n",
       "      <td>2100</td>\n",
       "      <td>2050</td>\n",
       "    </tr>\n",
       "  </tbody>\n",
       "</table>\n",
       "</div>"
      ],
      "text/plain": [
       "        Janvier Fevrier  Mars\n",
       "Revenue    2000    2100  2050"
      ]
     },
     "execution_count": 49,
     "metadata": {},
     "output_type": "execute_result"
    }
   ],
   "source": [
    "pd.DataFrame(income, index = [ \"Revenue\"])"
   ]
  },
  {
   "cell_type": "code",
   "execution_count": 16,
   "id": "f9c54fc1",
   "metadata": {},
   "outputs": [
    {
     "data": {
      "text/plain": [
       "{'date': '2025-04-23',\n",
       " 'expenses': [{'type': 'Food',\n",
       "   'items': [{'name': 'Lunch - Sandwich',\n",
       "     'amount': 8.5,\n",
       "     'payment_method': 'Credit Card'},\n",
       "    {'name': 'Coffee', 'amount': 3.0, 'payment_method': 'Cash'}]},\n",
       "  {'type': 'Transport',\n",
       "   'items': [{'name': 'Bus Ticket',\n",
       "     'amount': 2.75,\n",
       "     'payment_method': 'Debit Card'}]},\n",
       "  {'type': 'Entertainment',\n",
       "   'items': [{'name': 'Movie Ticket',\n",
       "     'amount': 12.0,\n",
       "     'payment_method': 'Credit Card'}]}]}"
      ]
     },
     "execution_count": 16,
     "metadata": {},
     "output_type": "execute_result"
    }
   ],
   "source": [
    "with open('expenses.json', 'r', encoding='utf-8') as f:\n",
    "    expenses = json.load(f)\n",
    "\n",
    "expenses"
   ]
  },
  {
   "cell_type": "code",
   "execution_count": 28,
   "id": "517065f1",
   "metadata": {},
   "outputs": [
    {
     "data": {
      "text/plain": [
       "8.5"
      ]
     },
     "execution_count": 28,
     "metadata": {},
     "output_type": "execute_result"
    }
   ],
   "source": [
    "expenses[\"expenses\"][0][\"items\"][0][\"amount\"]"
   ]
  },
  {
   "cell_type": "code",
   "execution_count": null,
   "id": "0f653493",
   "metadata": {},
   "outputs": [
    {
     "data": {
      "text/plain": [
       "26.25"
      ]
     },
     "execution_count": 36,
     "metadata": {},
     "output_type": "execute_result"
    }
   ],
   "source": [
    "total = sum(items[\"amount\"] \n",
    "    for expense in expenses[\"expenses\"] \n",
    "    for items in expense[\"items\"])\n",
    "\n",
    "total"
   ]
  },
  {
   "cell_type": "code",
   "execution_count": 52,
   "id": "9fe9df82",
   "metadata": {},
   "outputs": [],
   "source": [
    "budget_Janvier = total*31\n",
    "budget_Fevrier = total*28\n",
    "budget_Mars = total*31\n"
   ]
  },
  {
   "cell_type": "code",
   "execution_count": 53,
   "id": "463a6090",
   "metadata": {},
   "outputs": [
    {
     "data": {
      "text/plain": [
       "813.75"
      ]
     },
     "execution_count": 53,
     "metadata": {},
     "output_type": "execute_result"
    }
   ],
   "source": [
    "budget_Janvier"
   ]
  }
 ],
 "metadata": {
  "kernelspec": {
   "display_name": "base",
   "language": "python",
   "name": "python3"
  },
  "language_info": {
   "codemirror_mode": {
    "name": "ipython",
    "version": 3
   },
   "file_extension": ".py",
   "mimetype": "text/x-python",
   "name": "python",
   "nbconvert_exporter": "python",
   "pygments_lexer": "ipython3",
   "version": "3.12.7"
  }
 },
 "nbformat": 4,
 "nbformat_minor": 5
}
