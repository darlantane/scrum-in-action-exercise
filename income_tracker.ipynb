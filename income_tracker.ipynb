{
 "cells": [
  {
   "cell_type": "code",
   "execution_count": 6,
   "id": "91a57d13",
   "metadata": {},
   "outputs": [],
   "source": [
    "import pandas as pd"
   ]
  },
  {
   "cell_type": "code",
   "execution_count": 7,
   "id": "6b5c00c9",
   "metadata": {},
   "outputs": [],
   "source": [
    "net_income = {\"Janvier\": \"2000\",\"Fevrier\": \"2100\", \"Mars\": \"2050\"}"
   ]
  },
  {
   "cell_type": "code",
   "execution_count": 8,
   "id": "255c2b19",
   "metadata": {},
   "outputs": [
    {
     "data": {
      "text/plain": [
       "{'Janvier': '2000', 'Fevrier': '2100', 'Mars': '2050'}"
      ]
     },
     "execution_count": 8,
     "metadata": {},
     "output_type": "execute_result"
    }
   ],
   "source": [
    "net_income\n"
   ]
  },
  {
   "cell_type": "code",
   "execution_count": 9,
   "id": "83bd24c1",
   "metadata": {},
   "outputs": [],
   "source": [
    "import json"
   ]
  },
  {
   "cell_type": "code",
   "execution_count": 10,
   "id": "d2623a98",
   "metadata": {},
   "outputs": [],
   "source": [
    "with open(\"net_income.json\", \"w\", encoding=\"utf-8\") as fichier:\n",
    "    json.dump(net_income, fichier, indent=4, ensure_ascii=False)"
   ]
  }
 ],
 "metadata": {
  "kernelspec": {
   "display_name": "base",
   "language": "python",
   "name": "python3"
  },
  "language_info": {
   "codemirror_mode": {
    "name": "ipython",
    "version": 3
   },
   "file_extension": ".py",
   "mimetype": "text/x-python",
   "name": "python",
   "nbconvert_exporter": "python",
   "pygments_lexer": "ipython3",
   "version": "3.12.7"
  }
 },
 "nbformat": 4,
 "nbformat_minor": 5
}
